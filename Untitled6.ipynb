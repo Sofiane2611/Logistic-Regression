{
  "nbformat": 4,
  "nbformat_minor": 0,
  "metadata": {
    "colab": {
      "name": "Untitled6.ipynb",
      "provenance": []
    },
    "kernelspec": {
      "name": "python3",
      "display_name": "Python 3"
    }
  },
  "cells": [
    {
      "cell_type": "code",
      "metadata": {
        "id": "ZvrphIBHpXJ8"
      },
      "source": [
        "import matplotlib.pyplot as plt\r\n",
        "import seaborn as sns\r\n",
        "import pandas as pd\r\n",
        "import numpy as np\r\n",
        "\r\n",
        "titanic=pd.read_csv(\"titanic-passengers_2020.csv\",sep=\";\")\r\n",
        "titanic.head()"
      ],
      "execution_count": null,
      "outputs": []
    },
    {
      "cell_type": "code",
      "metadata": {
        "id": "wahdp5iCpfoc"
      },
      "source": [
        "titanic.isnull().sum()\r\n"
      ],
      "execution_count": null,
      "outputs": []
    },
    {
      "cell_type": "code",
      "metadata": {
        "id": "2KuP4DR3phiy"
      },
      "source": [
        "titanic['Age'] = titanic['Age'].fillna((titanic['Age'].median()))\r\n",
        "titanic[\"Cabin\"].fillna('G6', inplace=True)\r\n",
        "titanic[\"Embarked\"] = titanic[\"Embarked\"].fillna('C')\r\n",
        "\r\n",
        "titanic.head()"
      ],
      "execution_count": null,
      "outputs": []
    },
    {
      "cell_type": "code",
      "metadata": {
        "id": "AHaJavRwplOd"
      },
      "source": [
        "titanic = titanic.drop(columns = 'Name')\r\n",
        "titanic = titanic.drop(columns = 'Ticket')\r\n",
        "titanic = titanic.drop(columns = 'PassengerId')\r\n",
        "\r\n",
        "\r\n",
        "titanic['Survived'].replace(['No','Yes'], [0,1], inplace=True)\r\n",
        "titanic['Sex'].replace(['male','female'], [0,1], inplace=True)\r\n",
        "titanic['Embarked'].replace(['S','C','Q'], [0,1,2], inplace=True)\r\n",
        "\r\n",
        "from sklearn.preprocessing import LabelEncoder\r\n",
        "encoder=LabelEncoder()\r\n",
        "titanic['Cabin']=encoder.fit_transform(titanic['Cabin'])\r\n",
        "\r\n",
        "titanic.head()"
      ],
      "execution_count": null,
      "outputs": []
    },
    {
      "cell_type": "code",
      "metadata": {
        "id": "Ot0mzSdmppdJ"
      },
      "source": [
        "import seaborn as sns\r\n",
        "plt.scatter(titanic.Age, titanic.Survived, marker='+', color='red')"
      ],
      "execution_count": null,
      "outputs": []
    },
    {
      "cell_type": "code",
      "metadata": {
        "id": "_l2I8-s0ptQL"
      },
      "source": [
        "# import relevant libairies\r\n",
        "\r\n",
        "from sklearn.metrics import classification_report, confusion_matrix\r\n",
        "from sklearn.model_selection import train_test_split\r\n",
        "from sklearn import metrics"
      ],
      "execution_count": null,
      "outputs": []
    },
    {
      "cell_type": "code",
      "metadata": {
        "id": "7nM7clxxpxAG"
      },
      "source": [
        "# features extraction\r\n",
        "\r\n",
        "x = titanic.iloc[:, 1:9]\r\n",
        "y = titanic.iloc[:, 0]\r\n",
        "\r\n",
        "x_train, x_test, y_train,y_test=train_test_split(x, y, test_size=0.20, random_state=0)"
      ],
      "execution_count": null,
      "outputs": []
    },
    {
      "cell_type": "code",
      "metadata": {
        "id": "vKdYXMg7p0jU"
      },
      "source": [
        "from sklearn.preprocessing import StandardScaler\r\n",
        "\r\n",
        "sc = StandardScaler()\r\n",
        "\r\n",
        "x_train = sc.fit_transform(x_train)\r\n",
        "x_test = sc.fit_transform(x_test)"
      ],
      "execution_count": null,
      "outputs": []
    },
    {
      "cell_type": "code",
      "metadata": {
        "id": "m7RfFS4Hp3VG"
      },
      "source": [
        "\r\n",
        "from sklearn.linear_model import LogisticRegression\r\n",
        "\r\n",
        "logreg = LogisticRegression()   #build our logistic model\r\n",
        "logreg.fit(x_train, y_train)  #fitting training data"
      ],
      "execution_count": null,
      "outputs": []
    },
    {
      "cell_type": "code",
      "metadata": {
        "id": "5VMnENA8p5ii"
      },
      "source": [
        "\r\n",
        "y_pred_test = logreg.predict(x_test)\r\n",
        "y_pred_train = logreg.predict(x_train)    \r\n",
        "\r\n",
        "pred_proba = logreg.predict_proba(x_train) \r\n",
        "\r\n",
        "print('.............................................................')\r\n",
        "\r\n",
        "print('Coef = :', logreg.coef_)\r\n",
        "print('.............................................................')\r\n",
        "\r\n",
        "print('Intercept = :', logreg.intercept_)\r\n",
        "\r\n",
        "print('.............................................................')"
      ],
      "execution_count": null,
      "outputs": []
    },
    {
      "cell_type": "code",
      "metadata": {
        "id": "0hcoIc5-p9Xc"
      },
      "source": [
        "print('.............................................................')\r\n",
        "\r\n",
        "\r\n",
        "print('The Training Accuracy is :', logreg.score(x_train, y_train))\r\n",
        "\r\n",
        "print('.............................................................')\r\n",
        "\r\n",
        "print('The Testing Accuracy is :', logreg.score(x_test, y_test))\r\n",
        "\r\n",
        "print('.............................................................')\r\n",
        "\r\n",
        "\r\n",
        "print(classification_report(y_train, y_pred_train))\r\n",
        "\r\n",
        "print('.............................................................')"
      ],
      "execution_count": null,
      "outputs": []
    },
    {
      "cell_type": "code",
      "metadata": {
        "id": "oSC4jcJuqAjz"
      },
      "source": [
        "\r\n",
        "def plot_confusion_matrix(cm, classes = None, title = 'Confusion Matrix'):\r\n",
        "    \"\"\"Plots a Confusion Matrix. \"\"\"\r\n",
        "    if classes is not None:\r\n",
        "        sns.heatmap(cm, xticklabels = classes, yticklabels = classes, vmin = 0, vmax = 1, annot = True, annot_kws = {'size' : 30})\r\n",
        "        \r\n",
        "    else : \r\n",
        "        sns.heatmap(cm, vmin = 0, vmax = 1)\r\n",
        "    \r\n",
        "    plt.title(title)\r\n",
        "    plt.ylabel('True Label')\r\n",
        "    plt.xlabel('Predicted Label')\r\n",
        "\r\n",
        "cm = confusion_matrix(y_train, y_pred_train)\r\n",
        "\r\n",
        "cm_norm = cm / cm.sum(axis = 1)\r\n",
        "\r\n",
        "plot_confusion_matrix(cm_norm, classes = logreg.classes_, title = 'Confusion Matrix')"
      ],
      "execution_count": null,
      "outputs": []
    },
    {
      "cell_type": "code",
      "metadata": {
        "id": "O05ETmNQqDdG"
      },
      "source": [
        "FP = cm.sum(axis = 0) - np.diag(cm)\r\n",
        "FN = cm.sum(axis = 1) - np.diag(cm)\r\n",
        "TP = np.diag(cm)\r\n",
        "TN = cm.sum() - (FP+FN+TP)\r\n",
        "\r\n",
        "# True Positive Rate :\r\n",
        "TPR = TP / (TP + FN)\r\n",
        "print('--------------------------------------------------------------')\r\n",
        "print(\"The True Positive Rate is :\", TPR)\r\n",
        "print('--------------------------------------------------------------')\r\n",
        "\r\n",
        "#Precision or positive predictive value :\r\n",
        "PPV = TP / (TP + FP)\r\n",
        "print(\"The Precision is :\", PPV)\r\n",
        "print('--------------------------------------------------------------')\r\n",
        "\r\n",
        "# Fale Positive Rate :\r\n",
        "FPR = FP / (FP + TN)\r\n",
        "print(\"The False Positive Rate is :\", FPR)\r\n",
        "print('--------------------------------------------------------------')\r\n",
        "\r\n",
        "# Fale Negative Rate :\r\n",
        "FNR = FN / (FN + TP)\r\n",
        "print(\"The False Negative Rate is :\", FNR)\r\n",
        "print('..............................................................')\r\n",
        "print('..............................................................')\r\n",
        "\r\n",
        "# Accuracy:\r\n",
        "Accuracy = (TP+TN)/(TP+FP+FN+TN)\r\n",
        "print('Accuracy is:', Accuracy)\r\n",
        "print('..............................................................')\r\n",
        "\r\n",
        "# Recall :\r\n",
        "Recall = TP/(TP+FN)\r\n",
        "print('Recall is:', Recall)\r\n",
        "print('..............................................................')\r\n",
        "\r\n",
        "# Precision :\r\n",
        "Precision= TP/(TP+FP)\r\n",
        "print('Precision is:', Precision)\r\n",
        "print('--------------------------------------------------------------')"
      ],
      "execution_count": null,
      "outputs": []
    },
    {
      "cell_type": "code",
      "metadata": {
        "id": "vXm2RPU2qIYR"
      },
      "source": [
        "from sklearn.metrics import roc_auc_score\r\n",
        "\r\n",
        "logit_roc_auc = roc_auc_score(y_test, y_pred_test)\r\n",
        "logit_roc_auc"
      ],
      "execution_count": null,
      "outputs": []
    },
    {
      "cell_type": "code",
      "metadata": {
        "id": "sgicWIw6qL9o"
      },
      "source": [
        "from sklearn.metrics import roc_curve\r\n",
        "\r\n",
        "fpr, tpr, thresholds = roc_curve(y_test, logreg.predict_proba(x_test)[:,1])\r\n",
        "plt.figure()\r\n",
        "plt.plot(fpr, tpr, label='Logistic Regression (area = %0.2f)' % logit_roc_auc)\r\n",
        "plt.plot([0, 1], [0, 1],'r--')\r\n",
        "plt.xlim([0.0, 1.0])\r\n",
        "plt.ylim([0.0, 1.05])\r\n",
        "plt.xlabel('False Positive Rate')\r\n",
        "plt.ylabel('True Positive Rate')\r\n",
        "plt.title('Receiver operating characteristic')\r\n",
        "plt.legend(loc=\"lower right\")\r\n",
        "plt.savefig('Log_ROC')\r\n",
        "plt.show()\r\n"
      ],
      "execution_count": null,
      "outputs": []
    }
  ]
}